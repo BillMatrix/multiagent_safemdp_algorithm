{
 "cells": [
  {
   "cell_type": "code",
   "execution_count": 1,
   "metadata": {},
   "outputs": [],
   "source": [
    "from helper import plot_altitudes\n",
    "from mars_utilities import mars_map\n",
    "import pickle as pkl"
   ]
  },
  {
   "cell_type": "code",
   "execution_count": 4,
   "metadata": {},
   "outputs": [
    {
     "data": {
      "image/png": "[encoded data removed]",
      "text/plain": [
       "<Figure size 432x288 with 2 Axes>"
      ]
     },
     "metadata": {},
     "output_type": "display_data"
    }
   ],
   "source": [
    "generated_altitudes = pkl.load(open('altitudes.pkl', 'rb'))\n",
    "generated_altitudes = generated_altitudes.reshape((8, 8))\n",
    "plot_altitudes(generated_altitudes, 'Generated Environment')"
   ]
  },
  {
   "cell_type": "code",
   "execution_count": 6,
   "metadata": {},
   "outputs": [],
   "source": [
    "import numpy as np\n",
    "import matplotlib.pyplot as plt"
   ]
  },
  {
   "cell_type": "code",
   "execution_count": 7,
   "metadata": {},
   "outputs": [],
   "source": [
    "exp1_mult_joint = np.array([\n",
    "    [0., 0., 0., 0., 0., 0., 0., 0., 0., 0.],\n",
    "    [0.,0.,3.2,0.,0.,0.,0.,0.,0.,0.],\n",
    "    [0.,0.,0.,0.,0.,0.,6.,0.,0.,5.33333333],\n",
    "    [5.42857143,0.,0.,0.,0.,0.,0.,0.,5.71428571,0.],\n",
    "    [0.,0.,2.75,0.,0.,0.,0.,0.,0.,0.],\n",
    "    [0.,0.,0.,0.,2.44444444,5.11111111,0.,0.,0.,3.33333333],\n",
    "    [3.2,0.,0.,0.,6.6,0.,1.8,0.,3.2,0.]\n",
    "])\n",
    "exp1_sing_joint = np.array([\n",
    "    [ 0.,0.,0.,0.,0.,0.,12.5,12.5,0.,0.],\n",
    "    [ 0.,0.,10.,19.6,0.,20.,20.,30.,19.6,0.],\n",
    "    [16.66666667,16.66666667,8.33333333,8.33333333,16.66666667,8.33333333,8.33333333,16.66666667,16.66666667,33.33333333],\n",
    "    [14.28571429,14.28571429,7.14285714,14.28571429,7.14285714,14.28571429,14.28571429,21.42857143,14.28571429,28.28571429],\n",
    "    [25.,6.25,24.5 ,37.5,18.75,6.25,24.75,18.75,25.,37.],\n",
    "    [ 5.55555556,11.11111111,22.22222222,22.22222222,22.22222222,27.77777778,16.66666667,22.22222222,5.55555556,33.33333333],\n",
    "    [40.,15.  ,0. ,15.,10,20. ,39.8,30.,40.,15.]\n",
    "])"
   ]
  },
  {
   "cell_type": "code",
   "execution_count": 10,
   "metadata": {},
   "outputs": [],
   "source": [
    "exp1_mult_safe = np.array([\n",
    "    [0., 0., 0., 0., 5., 0. ,0.,0.,0.,0.],\n",
    "    [1.4, 0.,  0.,  0.,  0.,  0.,  2.2, 0.,  0.4, 0. ],\n",
    "    [0., 0., 3.33333333, 0., 3.33333333, 3.33333333, 0., 0., 3.16666667,0.],\n",
    "    [0.,5.71428571, 0.,0.,5.71428571, 2.8571428,0.,         0.,3.42857143, 5.71428571],\n",
    "    [0.,5.,5.,4.875,7.25,5.5,1.875,2.5,5.,1.],\n",
    "    [ 7,11.11111111,  2.22222222,  4.44444444,  2.22222222,2.22222222,6.66666667,8.77777778,0.,9.],\n",
    "    [ 7.9,  4. ,  3.7, 11.9,  7.5,  0.,   7.9,  2.,   8.3 ,5.9],\n",
    "])\n",
    "exp1_sing_safe = np.array([\n",
    "    [1, 1, 1, 0, 0, 0, 0, 0, 0, 0],\n",
    "    [1, 1, 0, 0, 0, 0, 0, 0, 0, 0],\n",
    "    [1, 0, 0, 0, 0, 0, 0, 0, 0, 0],\n",
    "    [1, 0, 0, 0, 0, 0, 0, 0, 0, 0],\n",
    "    [1, 1, 1, 0, 0, 0, 0, 0, 0, 0],\n",
    "    [0, 0, 0, 0, 0, 0, 0, 0, 0, 0],\n",
    "    [1, 0, 0, 0, 0, 0, 0, 0, 0, 0]\n",
    "])"
   ]
  },
  {
   "cell_type": "code",
   "execution_count": 11,
   "metadata": {},
   "outputs": [],
   "source": [
    "exp2_mult_joint = np.array([\n",
    "    [0, 3, 7, 0, 2, 0, 14, 0, 0, 6],\n",
    "    [0, 1, 0, 0, 0, 0, 5, 1, 0, 0],\n",
    "    [9, 0, 9, 3, 0, 0, 0, 1, 0, 8],\n",
    "    [10.,  6.,  7., 11.,  2.,  0.,  1.,  0., 8.,1.],\n",
    "    [ 0.,  3.,  1., 11.,  0.,  9., 50.,  0.,  1.,  0.],\n",
    "    [ 21. ,  0. ,  0.,  17.,   0.,   0., 118.,   0.,   1.,   0.],\n",
    "    [ 0., 20.,  0.,  7.,  4.,  3.,  0.,  3.,  0.,  0.]\n",
    "])\n",
    "exp2_eps_joint = np.array([\n",
    "    [99.  , 54.75, 61.25, 77.5,  37.5,  49. ,  52.5 , 76.5 , 65.5,  78.  ],\n",
    "    [ 78.8, 118.6,  40.8, 135.6,  44.8, 132. , 142.2, 108.6 , 96.8, 128.8],\n",
    "    [ 68.5,135.,123.83333333,150.8333333,39.33333333,200.66666667, 182.66666667,181.5,60.,143.],\n",
    "    [142.28571429,  71.42857143, 203.,189,194.,166.,117.,226.,199.42857143,213.57142857],\n",
    "    [193.75,229.625, 170.375, 213.375,175.5,233.875, 270.5, 52.,117.375,168.5  ],\n",
    "    [236.11111111,199.77777778,290.,63.22222222,243.77777778,126.,285.11111111, 257.33333333, 210.55555556, 188.22222222],\n",
    "    [279.6,258.8,332.2,314.1,274. ,348.7,237.8,334.5,244.4, 296.8]\n",
    "])"
   ]
  },
  {
   "cell_type": "code",
   "execution_count": 12,
   "metadata": {},
   "outputs": [],
   "source": [
    "exp2_mult_safe = np.array([\n",
    "    [ 4. ,47. , 0.  ,0. , 0. , 0. , 0. , 0.,  0.,  0.],\n",
    "    [ 0. , 0.,  1. , 0. , 0. , 0. ,36.,  0. , 0.,0.],\n",
    "    [0., 0., 0., 0., 0., 0., 0., 0., 0.,1.],\n",
    "    [ 0. , 0. , 2. ,18. , 0.,  0., 22., 22., 28.,0.],\n",
    "    [0., 2., 9., 0., 4., 0., 0., 0. ,0. ,0.],\n",
    "    [ 0.,  0. , 0. ,10., 23. , 0. , 3. ,23. , 0.,  0.],\n",
    "    [ 0.,  0., 22. , 0. , 0. , 0. ,25.  ,0. , 0. , 0.]\n",
    "])\n",
    "exp2_eps_joint = np.array([\n",
    "    [1.5 , 0.25,54.5 ,1.5 ,1.25,7.75,0.,8.25,1.75,8.5 ],\n",
    "    [ 9.8,  3.8,  7.6,  1.4, 11.2 , 2.2 , 1.4  ,0.8 , 1.2 ,0.8],\n",
    "    [1.,6.33333333, 7.33333333, 1.33333333,4.5,3.5,1.66666667 ,1. ,6.5,0],\n",
    "    [ 4.57142857, 7.85714286,0.14285714,4.,5.42857143,4.,10.57142857,  1.42857143,  5.57142857,  0.57142857],\n",
    "    [5.625,2.625,5.25 ,6.375,2.125,1.125,2.25 ,8.25 ,5.75,3.75 ],\n",
    "    [ 0.44444444,4.77777778,3.,26.55555556,3.11111111,5.44444444,2.33333333, 3.11111111, 1.22222222, 10.44444444],\n",
    "    [4.4 ,3.2 ,0.7 ,1.  ,2.3, 2.7 ,0.3 ,.3, 2.8,4.]\n",
    "])"
   ]
  },
  {
   "cell_type": "code",
   "execution_count": 13,
   "metadata": {},
   "outputs": [],
   "source": [
    "def listify(s):\n",
    "    return ','.join(s.split())"
   ]
  },
  {
   "cell_type": "code",
   "execution_count": 46,
   "metadata": {},
   "outputs": [
    {
     "data": {
      "text/plain": [
       "'4.,1.3,1.2,0.9,5.7,2.6,1.5,1.5,2.8,2.1'"
      ]
     },
     "execution_count": 46,
     "metadata": {},
     "output_type": "execute_result"
    }
   ],
   "source": [
    "listify('4.  1.3 1.2 0.9 5.7 2.6 1.5 1.5 2.8 2.1')"
   ]
  },
  {
   "cell_type": "code",
   "execution_count": 32,
   "metadata": {},
   "outputs": [],
   "source": [
    "exp3_mult_joint = np.array([\n",
    "    [1.,1.,0.,2.,2.,13.,0.,5.,0.,0.],\n",
    "    [37.,1.,0.,18.,4.,0.,0.,0.,0.,0.],\n",
    "    [9.,0.,3.,1.,0.,0.,2.,2.,2.,35.],\n",
    "    [0.,0.,0.,3.,4.,95.,0.,1.,0.,5.],\n",
    "    [8.,9.,1.,32.,46.,0.,0.,1.,3.,0.],\n",
    "    [0.,0.,1.,18.,0.,11.,0.,0.,0.,0.],\n",
    "    [0.,0.,9.,0.,5.,1.,0.,57.,1.,3.]\n",
    "])\n",
    "exp3_eps_joint = np.array([\n",
    "    [77.25,78.25,29.5,91.,101.,67.25,7.,3.25,91.,83.],\n",
    "    [110.2,92.6,34.,82.8,122.8,119.2,43.6,139.2,52.8,84.4],\n",
    "    [98.5,78.,190.83333333,167.5,79.66666667,133.,100.66666667,182.33333333,123.,126.5],\n",
    "    [138.85714286,209.14285714,130.,113.,63.14285714,103.57142857,143.14285714,134.14285714,132.28571429,159.],\n",
    "    [181.5,154.875,217.375,231.25,264.5,150.5,219.,272.625,165.375,164.25],\n",
    "    [220.88888889,214.88888889,312.33333333,160.22222222,217.33333333,260.33333333,234.44444444,254.88888889,278.,254.22222222],\n",
    "    [229.2,344.,350.9,233.8,266.7,307.7,236.,333.3,246.5,192.7]\n",
    "])"
   ]
  },
  {
   "cell_type": "code",
   "execution_count": 47,
   "metadata": {},
   "outputs": [],
   "source": [
    "exp3_mult_safe = np.array([\n",
    "    [40.,0.,0.,0.,5.,0.,0.,0.,0.,0.],\n",
    "    [0.,0.,0.,0.,8.,0.,0.,0.,0.,14.],\n",
    "    [0.,0.,40.,13.,0.,0.,0.,0.,0.,0.],\n",
    "    [0.,0.,0.,35.,6.,0.,48.,47.,0.,0.],\n",
    "    [0.,0.,10.,4.,2.,0.,0.,47.,0.,0.],\n",
    "    [0.,1.,0.,0.,0.,0.,0.,0.,1.,0.],\n",
    "    [2.,18.,2.,1.,0.,5.,0.,0.,0.,0.]\n",
    "])\n",
    "exp3_eps_joint = np.array([\n",
    "    [1.75,1.25,0.,1.25,0.5,5.25,0.,16.5,3.5,3.],\n",
    "    [3.2,10.8,0.,9.6,0.,2.2,9.4,1.8,14.4,3.],\n",
    "    [1.33333333,1.83333333,1.5,1.,11.33333333,1.6666666,2.66666667,2.83333333,0.5,2.33333333],\n",
    "    [10.14285714,2.14285714,4.85714286,7.57142857,11.71428571,10.42857143,0.28571429,3.14285714,5.,2.],\n",
    "    [2.5,1.75,0.875,1.375,0.625,2.5,2.125,1.25,8.5,8.25],\n",
    "    [3.,2.33333333,1.11111111,0.22222222,4.44444444,1.33333333,3.66666667,0.66666667,4.22222222,3.11111111],\n",
    "    [4.,1.3,1.2,0.9,5.7,2.6,1.5,1.5,2.8,2.1]\n",
    "])"
   ]
  },
  {
   "cell_type": "code",
   "execution_count": 49,
   "metadata": {},
   "outputs": [
    {
     "data": {
      "image/png": "[encoded data removed]",
      "text/plain": [
       "<Figure size 432x288 with 2 Axes>"
      ]
     },
     "metadata": {},
     "output_type": "display_data"
    }
   ],
   "source": [
    "altitudes_mars = mars_map((10, 10))\n",
    "plot_altitudes(altitudes_mars, 'Mars Environment')"
   ]
  },
  {
   "cell_type": "code",
   "execution_count": 53,
   "metadata": {},
   "outputs": [],
   "source": [
    "mean_exp1_mult_joint = np.mean(exp1_mult_joint, axis=1)\n",
    "std_exp1_mult_joint = np.std(exp1_mult_joint, axis=1)\n",
    "mean_exp1_sing_joint = np.mean(exp1_sing_joint, axis=1)\n",
    "std_exp1_sing_joint = np.mean(exp1_sing_joint, axis=1)"
   ]
  },
  {
   "cell_type": "code",
   "execution_count": 63,
   "metadata": {},
   "outputs": [
    {
     "name": "stderr",
     "output_type": "stream",
     "text": [
      " /anaconda3/lib/python3.6/site-packages/matplotlib/cbook/deprecation.py:107: MatplotlibDeprecationWarning:Adding an axes using the same arguments as a previous axes currently reuses the earlier instance.  In a future version, a new instance will always be created and returned.  Meanwhile, this warning can be suppressed, and the future behavior ensured, by passing a unique label to each axes instance.\n"
     ]
    },
    {
     "data": {
      "image/png": "[encoded data removed]",
      "text/plain": [
       "<Figure size 432x288 with 1 Axes>"
      ]
     },
     "metadata": {},
     "output_type": "display_data"
    }
   ],
   "source": [
    "x = [i for i in range(4, 11)]\n",
    "plt.plot(x, mean_exp1_mult_joint, '-', color='orange', label='Multi-Agent SafeMDP')\n",
    "plt.plot(x, mean_exp1_sing_joint, '-', color='blue', label='Iterative SafeMDP')\n",
    "plt.fill_between(\n",
    "    x,\n",
    "    mean_exp1_mult_joint - 0.75 * std_exp1_mult_joint,\n",
    "    mean_exp1_mult_joint + 0.75 * std_exp1_mult_joint,\n",
    "    color='orange',\n",
    "    alpha=0.2\n",
    ")\n",
    "plt.fill_between(\n",
    "    x,\n",
    "    mean_exp1_sing_joint - 0.75 * std_exp1_sing_joint,\n",
    "    mean_exp1_sing_joint + 0.75 *std_exp1_sing_joint,\n",
    "    color='blue',\n",
    "    alpha=0.2\n",
    ")\n",
    "plt.xlabel('number of agents')\n",
    "plt.ylabel('number of collisions')\n",
    "plt.legend(frameon=False)\n",
    "plt.rcParams[\"font.family\"] = \"Times New Roman\"\n",
    "\n",
    "ax = plt.subplot(111)\n",
    "\n",
    "# Hide the right and top spines\n",
    "ax.spines['right'].set_visible(False)\n",
    "ax.spines['top'].set_visible(False)\n",
    "\n",
    "# Only show ticks on the left and bottom spines\n",
    "ax.yaxis.set_ticks_position('left')\n",
    "ax.xaxis.set_ticks_position('bottom')\n",
    "plt.show()"
   ]
  },
  {
   "cell_type": "code",
   "execution_count": null,
   "metadata": {},
   "outputs": [],
   "source": [
    "generated_unsafe_compare"
   ]
  },
  {
   "cell_type": "code",
   "execution_count": 64,
   "metadata": {},
   "outputs": [],
   "source": [
    "mean_exp1_mult_safe = np.mean(exp1_mult_safe, axis=1)\n",
    "std_exp1_mult_safe = np.std(exp1_mult_safe, axis=1)\n",
    "mean_exp1_sing_safe = np.mean(exp1_sing_safe, axis=1)\n",
    "std_exp1_sing_safe = np.mean(exp1_sing_safe, axis=1)"
   ]
  },
  {
   "cell_type": "code",
   "execution_count": 66,
   "metadata": {},
   "outputs": [
    {
     "name": "stderr",
     "output_type": "stream",
     "text": [
      " /anaconda3/lib/python3.6/site-packages/matplotlib/cbook/deprecation.py:107: MatplotlibDeprecationWarning:Adding an axes using the same arguments as a previous axes currently reuses the earlier instance.  In a future version, a new instance will always be created and returned.  Meanwhile, this warning can be suppressed, and the future behavior ensured, by passing a unique label to each axes instance.\n"
     ]
    },
    {
     "data": {
      "image/png": "[encoded data removed]",
      "text/plain": [
       "<Figure size 432x288 with 1 Axes>"
      ]
     },
     "metadata": {},
     "output_type": "display_data"
    }
   ],
   "source": [
    "x = [i for i in range(4, 11)]\n",
    "plt.plot(x, mean_exp1_mult_safe, '-', color='orange', label='Multi-Agent SafeMDP')\n",
    "plt.plot(x, mean_exp1_sing_safe, '-', color='blue', label='Iterative SafeMDP')\n",
    "plt.fill_between(\n",
    "    x,\n",
    "    mean_exp1_mult_safe - std_exp1_mult_safe,\n",
    "    mean_exp1_mult_safe + std_exp1_mult_safe,\n",
    "    color='orange',\n",
    "    alpha=0.2\n",
    ")\n",
    "plt.fill_between(\n",
    "    x,\n",
    "    mean_exp1_sing_safe - std_exp1_sing_safe,\n",
    "    mean_exp1_sing_safe + std_exp1_sing_safe,\n",
    "    color='blue',\n",
    "    alpha=0.2\n",
    ")\n",
    "plt.xlabel('number of agents')\n",
    "plt.ylabel('number of unsafe states')\n",
    "plt.legend(frameon=False)\n",
    "plt.rcParams[\"font.family\"] = \"Times New Roman\"\n",
    "\n",
    "ax = plt.subplot(111)\n",
    "\n",
    "# Hide the right and top spines\n",
    "ax.spines['right'].set_visible(False)\n",
    "ax.spines['top'].set_visible(False)\n",
    "\n",
    "# Only show ticks on the left and bottom spines\n",
    "ax.yaxis.set_ticks_position('left')\n",
    "ax.xaxis.set_ticks_position('bottom')\n",
    "plt.show()"
   ]
  },
  {
   "cell_type": "code",
   "execution_count": null,
   "metadata": {},
   "outputs": [],
   "source": []
  }
 ],
 "metadata": {
  "kernelspec": {
   "display_name": "Python 3",
   "language": "python",
   "name": "python3"
  },
  "language_info": {
   "codemirror_mode": {
    "name": "ipython",
    "version": 3
   },
   "file_extension": ".py",
   "mimetype": "text/x-python",
   "name": "python",
   "nbconvert_exporter": "python",
   "pygments_lexer": "ipython3",
   "version": "3.6.8"
  }
 },
 "nbformat": 4,
 "nbformat_minor": 2
}
